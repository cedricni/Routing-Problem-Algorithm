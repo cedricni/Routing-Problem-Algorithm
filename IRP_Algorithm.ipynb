{
  "nbformat": 4,
  "nbformat_minor": 0,
  "metadata": {
    "colab": {
      "provenance": []
    },
    "kernelspec": {
      "name": "python3",
      "display_name": "Python 3"
    },
    "language_info": {
      "name": "python"
    }
  },
  "cells": [
    {
      "cell_type": "code",
      "execution_count": null,
      "metadata": {
        "colab": {
          "base_uri": "https://localhost:8080/"
        },
        "id": "g8nAT_TUDShx",
        "outputId": "70def0e6-ffa1-4078-c418-bfe9ab542671"
      },
      "outputs": [
        {
          "output_type": "stream",
          "name": "stdout",
          "text": [
            "Collecting pulp\n",
            "  Downloading PuLP-2.7.0-py3-none-any.whl (14.3 MB)\n",
            "\u001b[?25l     \u001b[90m━━━━━━━━━━━━━━━━━━━━━━━━━━━━━━━━━━━━━━━━\u001b[0m \u001b[32m0.0/14.3 MB\u001b[0m \u001b[31m?\u001b[0m eta \u001b[36m-:--:--\u001b[0m\r\u001b[2K     \u001b[90m━━━━━━━━━━━━━━━━━━━━━━━━━━━━━━━━━━━━━━━━\u001b[0m \u001b[32m0.0/14.3 MB\u001b[0m \u001b[31m?\u001b[0m eta \u001b[36m-:--:--\u001b[0m\r\u001b[2K     \u001b[90m━━━━━━━━━━━━━━━━━━━━━━━━━━━━━━━━━━━━━━━━\u001b[0m \u001b[32m0.1/14.3 MB\u001b[0m \u001b[31m1.4 MB/s\u001b[0m eta \u001b[36m0:00:10\u001b[0m\r\u001b[2K     \u001b[91m━━\u001b[0m\u001b[90m╺\u001b[0m\u001b[90m━━━━━━━━━━━━━━━━━━━━━━━━━━━━━━━━━━━━━\u001b[0m \u001b[32m0.9/14.3 MB\u001b[0m \u001b[31m7.8 MB/s\u001b[0m eta \u001b[36m0:00:02\u001b[0m\r\u001b[2K     \u001b[91m━━━━━━━━━━━\u001b[0m\u001b[91m╸\u001b[0m\u001b[90m━━━━━━━━━━━━━━━━━━━━━━━━━━━━\u001b[0m \u001b[32m4.2/14.3 MB\u001b[0m \u001b[31m28.4 MB/s\u001b[0m eta \u001b[36m0:00:01\u001b[0m\r\u001b[2K     \u001b[91m━━━━━━━━━━━━━━━━━━━━━━\u001b[0m\u001b[91m╸\u001b[0m\u001b[90m━━━━━━━━━━━━━━━━━\u001b[0m \u001b[32m8.2/14.3 MB\u001b[0m \u001b[31m44.5 MB/s\u001b[0m eta \u001b[36m0:00:01\u001b[0m\r\u001b[2K     \u001b[91m━━━━━━━━━━━━━━━━━━━━━━━━━━━━━━━━\u001b[0m\u001b[90m╺\u001b[0m\u001b[90m━━━━━━\u001b[0m \u001b[32m11.8/14.3 MB\u001b[0m \u001b[31m108.5 MB/s\u001b[0m eta \u001b[36m0:00:01\u001b[0m\r\u001b[2K     \u001b[91m━━━━━━━━━━━━━━━━━━━━━━━━━━━━━━━━━━━━━━\u001b[0m\u001b[91m╸\u001b[0m \u001b[32m14.2/14.3 MB\u001b[0m \u001b[31m104.1 MB/s\u001b[0m eta \u001b[36m0:00:01\u001b[0m\r\u001b[2K     \u001b[91m━━━━━━━━━━━━━━━━━━━━━━━━━━━━━━━━━━━━━━\u001b[0m\u001b[91m╸\u001b[0m \u001b[32m14.2/14.3 MB\u001b[0m \u001b[31m104.1 MB/s\u001b[0m eta \u001b[36m0:00:01\u001b[0m\r\u001b[2K     \u001b[91m━━━━━━━━━━━━━━━━━━━━━━━━━━━━━━━━━━━━━━\u001b[0m\u001b[91m╸\u001b[0m \u001b[32m14.2/14.3 MB\u001b[0m \u001b[31m104.1 MB/s\u001b[0m eta \u001b[36m0:00:01\u001b[0m\r\u001b[2K     \u001b[90m━━━━━━━━━━━━━━━━━━━━━━━━━━━━━━━━━━━━━━━━\u001b[0m \u001b[32m14.3/14.3 MB\u001b[0m \u001b[31m51.4 MB/s\u001b[0m eta \u001b[36m0:00:00\u001b[0m\n",
            "\u001b[?25hInstalling collected packages: pulp\n",
            "Successfully installed pulp-2.7.0\n"
          ]
        }
      ],
      "source": [
        "#install LP solver library\n",
        "!pip install pulp\n",
        "from pulp import *"
      ]
    },
    {
      "cell_type": "code",
      "source": [
        "from google.colab import files\n",
        "\n",
        "uploaded = files.upload()\n",
        "\n",
        "for fn in uploaded.keys():\n",
        "  print('User uploaded file \"{name}\" with length {length} bytes'.format(\n",
        "      name=fn, length=len(uploaded[fn])))"
      ],
      "metadata": {
        "colab": {
          "base_uri": "https://localhost:8080/",
          "height": 428
        },
        "id": "EXPKbqLFjqZ6",
        "outputId": "94c47130-b125-4da6-b981-0244c959dd89"
      },
      "execution_count": null,
      "outputs": [
        {
          "output_type": "display_data",
          "data": {
            "text/plain": [
              "<IPython.core.display.HTML object>"
            ],
            "text/html": [
              "\n",
              "     <input type=\"file\" id=\"files-366cea2d-424f-487f-99c6-25b8a6a66986\" name=\"files[]\" multiple disabled\n",
              "        style=\"border:none\" />\n",
              "     <output id=\"result-366cea2d-424f-487f-99c6-25b8a6a66986\">\n",
              "      Upload widget is only available when the cell has been executed in the\n",
              "      current browser session. Please rerun this cell to enable.\n",
              "      </output>\n",
              "      <script>// Copyright 2017 Google LLC\n",
              "//\n",
              "// Licensed under the Apache License, Version 2.0 (the \"License\");\n",
              "// you may not use this file except in compliance with the License.\n",
              "// You may obtain a copy of the License at\n",
              "//\n",
              "//      http://www.apache.org/licenses/LICENSE-2.0\n",
              "//\n",
              "// Unless required by applicable law or agreed to in writing, software\n",
              "// distributed under the License is distributed on an \"AS IS\" BASIS,\n",
              "// WITHOUT WARRANTIES OR CONDITIONS OF ANY KIND, either express or implied.\n",
              "// See the License for the specific language governing permissions and\n",
              "// limitations under the License.\n",
              "\n",
              "/**\n",
              " * @fileoverview Helpers for google.colab Python module.\n",
              " */\n",
              "(function(scope) {\n",
              "function span(text, styleAttributes = {}) {\n",
              "  const element = document.createElement('span');\n",
              "  element.textContent = text;\n",
              "  for (const key of Object.keys(styleAttributes)) {\n",
              "    element.style[key] = styleAttributes[key];\n",
              "  }\n",
              "  return element;\n",
              "}\n",
              "\n",
              "// Max number of bytes which will be uploaded at a time.\n",
              "const MAX_PAYLOAD_SIZE = 100 * 1024;\n",
              "\n",
              "function _uploadFiles(inputId, outputId) {\n",
              "  const steps = uploadFilesStep(inputId, outputId);\n",
              "  const outputElement = document.getElementById(outputId);\n",
              "  // Cache steps on the outputElement to make it available for the next call\n",
              "  // to uploadFilesContinue from Python.\n",
              "  outputElement.steps = steps;\n",
              "\n",
              "  return _uploadFilesContinue(outputId);\n",
              "}\n",
              "\n",
              "// This is roughly an async generator (not supported in the browser yet),\n",
              "// where there are multiple asynchronous steps and the Python side is going\n",
              "// to poll for completion of each step.\n",
              "// This uses a Promise to block the python side on completion of each step,\n",
              "// then passes the result of the previous step as the input to the next step.\n",
              "function _uploadFilesContinue(outputId) {\n",
              "  const outputElement = document.getElementById(outputId);\n",
              "  const steps = outputElement.steps;\n",
              "\n",
              "  const next = steps.next(outputElement.lastPromiseValue);\n",
              "  return Promise.resolve(next.value.promise).then((value) => {\n",
              "    // Cache the last promise value to make it available to the next\n",
              "    // step of the generator.\n",
              "    outputElement.lastPromiseValue = value;\n",
              "    return next.value.response;\n",
              "  });\n",
              "}\n",
              "\n",
              "/**\n",
              " * Generator function which is called between each async step of the upload\n",
              " * process.\n",
              " * @param {string} inputId Element ID of the input file picker element.\n",
              " * @param {string} outputId Element ID of the output display.\n",
              " * @return {!Iterable<!Object>} Iterable of next steps.\n",
              " */\n",
              "function* uploadFilesStep(inputId, outputId) {\n",
              "  const inputElement = document.getElementById(inputId);\n",
              "  inputElement.disabled = false;\n",
              "\n",
              "  const outputElement = document.getElementById(outputId);\n",
              "  outputElement.innerHTML = '';\n",
              "\n",
              "  const pickedPromise = new Promise((resolve) => {\n",
              "    inputElement.addEventListener('change', (e) => {\n",
              "      resolve(e.target.files);\n",
              "    });\n",
              "  });\n",
              "\n",
              "  const cancel = document.createElement('button');\n",
              "  inputElement.parentElement.appendChild(cancel);\n",
              "  cancel.textContent = 'Cancel upload';\n",
              "  const cancelPromise = new Promise((resolve) => {\n",
              "    cancel.onclick = () => {\n",
              "      resolve(null);\n",
              "    };\n",
              "  });\n",
              "\n",
              "  // Wait for the user to pick the files.\n",
              "  const files = yield {\n",
              "    promise: Promise.race([pickedPromise, cancelPromise]),\n",
              "    response: {\n",
              "      action: 'starting',\n",
              "    }\n",
              "  };\n",
              "\n",
              "  cancel.remove();\n",
              "\n",
              "  // Disable the input element since further picks are not allowed.\n",
              "  inputElement.disabled = true;\n",
              "\n",
              "  if (!files) {\n",
              "    return {\n",
              "      response: {\n",
              "        action: 'complete',\n",
              "      }\n",
              "    };\n",
              "  }\n",
              "\n",
              "  for (const file of files) {\n",
              "    const li = document.createElement('li');\n",
              "    li.append(span(file.name, {fontWeight: 'bold'}));\n",
              "    li.append(span(\n",
              "        `(${file.type || 'n/a'}) - ${file.size} bytes, ` +\n",
              "        `last modified: ${\n",
              "            file.lastModifiedDate ? file.lastModifiedDate.toLocaleDateString() :\n",
              "                                    'n/a'} - `));\n",
              "    const percent = span('0% done');\n",
              "    li.appendChild(percent);\n",
              "\n",
              "    outputElement.appendChild(li);\n",
              "\n",
              "    const fileDataPromise = new Promise((resolve) => {\n",
              "      const reader = new FileReader();\n",
              "      reader.onload = (e) => {\n",
              "        resolve(e.target.result);\n",
              "      };\n",
              "      reader.readAsArrayBuffer(file);\n",
              "    });\n",
              "    // Wait for the data to be ready.\n",
              "    let fileData = yield {\n",
              "      promise: fileDataPromise,\n",
              "      response: {\n",
              "        action: 'continue',\n",
              "      }\n",
              "    };\n",
              "\n",
              "    // Use a chunked sending to avoid message size limits. See b/62115660.\n",
              "    let position = 0;\n",
              "    do {\n",
              "      const length = Math.min(fileData.byteLength - position, MAX_PAYLOAD_SIZE);\n",
              "      const chunk = new Uint8Array(fileData, position, length);\n",
              "      position += length;\n",
              "\n",
              "      const base64 = btoa(String.fromCharCode.apply(null, chunk));\n",
              "      yield {\n",
              "        response: {\n",
              "          action: 'append',\n",
              "          file: file.name,\n",
              "          data: base64,\n",
              "        },\n",
              "      };\n",
              "\n",
              "      let percentDone = fileData.byteLength === 0 ?\n",
              "          100 :\n",
              "          Math.round((position / fileData.byteLength) * 100);\n",
              "      percent.textContent = `${percentDone}% done`;\n",
              "\n",
              "    } while (position < fileData.byteLength);\n",
              "  }\n",
              "\n",
              "  // All done.\n",
              "  yield {\n",
              "    response: {\n",
              "      action: 'complete',\n",
              "    }\n",
              "  };\n",
              "}\n",
              "\n",
              "scope.google = scope.google || {};\n",
              "scope.google.colab = scope.google.colab || {};\n",
              "scope.google.colab._files = {\n",
              "  _uploadFiles,\n",
              "  _uploadFilesContinue,\n",
              "};\n",
              "})(self);\n",
              "</script> "
            ]
          },
          "metadata": {}
        },
        {
          "output_type": "error",
          "ename": "KeyboardInterrupt",
          "evalue": "ignored",
          "traceback": [
            "\u001b[0;31m---------------------------------------------------------------------------\u001b[0m",
            "\u001b[0;31mKeyboardInterrupt\u001b[0m                         Traceback (most recent call last)",
            "\u001b[0;32m<ipython-input-2-292f82be1b7a>\u001b[0m in \u001b[0;36m<cell line: 3>\u001b[0;34m()\u001b[0m\n\u001b[1;32m      1\u001b[0m \u001b[0;32mfrom\u001b[0m \u001b[0mgoogle\u001b[0m\u001b[0;34m.\u001b[0m\u001b[0mcolab\u001b[0m \u001b[0;32mimport\u001b[0m \u001b[0mfiles\u001b[0m\u001b[0;34m\u001b[0m\u001b[0;34m\u001b[0m\u001b[0m\n\u001b[1;32m      2\u001b[0m \u001b[0;34m\u001b[0m\u001b[0m\n\u001b[0;32m----> 3\u001b[0;31m \u001b[0muploaded\u001b[0m \u001b[0;34m=\u001b[0m \u001b[0mfiles\u001b[0m\u001b[0;34m.\u001b[0m\u001b[0mupload\u001b[0m\u001b[0;34m(\u001b[0m\u001b[0;34m)\u001b[0m\u001b[0;34m\u001b[0m\u001b[0;34m\u001b[0m\u001b[0m\n\u001b[0m\u001b[1;32m      4\u001b[0m \u001b[0;34m\u001b[0m\u001b[0m\n\u001b[1;32m      5\u001b[0m \u001b[0;32mfor\u001b[0m \u001b[0mfn\u001b[0m \u001b[0;32min\u001b[0m \u001b[0muploaded\u001b[0m\u001b[0;34m.\u001b[0m\u001b[0mkeys\u001b[0m\u001b[0;34m(\u001b[0m\u001b[0;34m)\u001b[0m\u001b[0;34m:\u001b[0m\u001b[0;34m\u001b[0m\u001b[0;34m\u001b[0m\u001b[0m\n",
            "\u001b[0;32m/usr/local/lib/python3.10/dist-packages/google/colab/files.py\u001b[0m in \u001b[0;36mupload\u001b[0;34m()\u001b[0m\n\u001b[1;32m     67\u001b[0m   \"\"\"\n\u001b[1;32m     68\u001b[0m \u001b[0;34m\u001b[0m\u001b[0m\n\u001b[0;32m---> 69\u001b[0;31m   \u001b[0muploaded_files\u001b[0m \u001b[0;34m=\u001b[0m \u001b[0m_upload_files\u001b[0m\u001b[0;34m(\u001b[0m\u001b[0mmultiple\u001b[0m\u001b[0;34m=\u001b[0m\u001b[0;32mTrue\u001b[0m\u001b[0;34m)\u001b[0m\u001b[0;34m\u001b[0m\u001b[0;34m\u001b[0m\u001b[0m\n\u001b[0m\u001b[1;32m     70\u001b[0m   \u001b[0;31m# Mapping from original filename to filename as saved locally.\u001b[0m\u001b[0;34m\u001b[0m\u001b[0;34m\u001b[0m\u001b[0m\n\u001b[1;32m     71\u001b[0m   \u001b[0mlocal_filenames\u001b[0m \u001b[0;34m=\u001b[0m \u001b[0mdict\u001b[0m\u001b[0;34m(\u001b[0m\u001b[0;34m)\u001b[0m\u001b[0;34m\u001b[0m\u001b[0;34m\u001b[0m\u001b[0m\n",
            "\u001b[0;32m/usr/local/lib/python3.10/dist-packages/google/colab/files.py\u001b[0m in \u001b[0;36m_upload_files\u001b[0;34m(multiple)\u001b[0m\n\u001b[1;32m    154\u001b[0m \u001b[0;34m\u001b[0m\u001b[0m\n\u001b[1;32m    155\u001b[0m   \u001b[0;31m# First result is always an indication that the file picker has completed.\u001b[0m\u001b[0;34m\u001b[0m\u001b[0;34m\u001b[0m\u001b[0m\n\u001b[0;32m--> 156\u001b[0;31m   result = _output.eval_js(\n\u001b[0m\u001b[1;32m    157\u001b[0m       'google.colab._files._uploadFiles(\"{input_id}\", \"{output_id}\")'.format(\n\u001b[1;32m    158\u001b[0m           \u001b[0minput_id\u001b[0m\u001b[0;34m=\u001b[0m\u001b[0minput_id\u001b[0m\u001b[0;34m,\u001b[0m \u001b[0moutput_id\u001b[0m\u001b[0;34m=\u001b[0m\u001b[0moutput_id\u001b[0m\u001b[0;34m\u001b[0m\u001b[0;34m\u001b[0m\u001b[0m\n",
            "\u001b[0;32m/usr/local/lib/python3.10/dist-packages/google/colab/output/_js.py\u001b[0m in \u001b[0;36meval_js\u001b[0;34m(script, ignore_result, timeout_sec)\u001b[0m\n\u001b[1;32m     38\u001b[0m   \u001b[0;32mif\u001b[0m \u001b[0mignore_result\u001b[0m\u001b[0;34m:\u001b[0m\u001b[0;34m\u001b[0m\u001b[0;34m\u001b[0m\u001b[0m\n\u001b[1;32m     39\u001b[0m     \u001b[0;32mreturn\u001b[0m\u001b[0;34m\u001b[0m\u001b[0;34m\u001b[0m\u001b[0m\n\u001b[0;32m---> 40\u001b[0;31m   \u001b[0;32mreturn\u001b[0m \u001b[0m_message\u001b[0m\u001b[0;34m.\u001b[0m\u001b[0mread_reply_from_input\u001b[0m\u001b[0;34m(\u001b[0m\u001b[0mrequest_id\u001b[0m\u001b[0;34m,\u001b[0m \u001b[0mtimeout_sec\u001b[0m\u001b[0;34m)\u001b[0m\u001b[0;34m\u001b[0m\u001b[0;34m\u001b[0m\u001b[0m\n\u001b[0m\u001b[1;32m     41\u001b[0m \u001b[0;34m\u001b[0m\u001b[0m\n\u001b[1;32m     42\u001b[0m \u001b[0;34m\u001b[0m\u001b[0m\n",
            "\u001b[0;32m/usr/local/lib/python3.10/dist-packages/google/colab/_message.py\u001b[0m in \u001b[0;36mread_reply_from_input\u001b[0;34m(message_id, timeout_sec)\u001b[0m\n\u001b[1;32m     94\u001b[0m     \u001b[0mreply\u001b[0m \u001b[0;34m=\u001b[0m \u001b[0m_read_next_input_message\u001b[0m\u001b[0;34m(\u001b[0m\u001b[0;34m)\u001b[0m\u001b[0;34m\u001b[0m\u001b[0;34m\u001b[0m\u001b[0m\n\u001b[1;32m     95\u001b[0m     \u001b[0;32mif\u001b[0m \u001b[0mreply\u001b[0m \u001b[0;34m==\u001b[0m \u001b[0m_NOT_READY\u001b[0m \u001b[0;32mor\u001b[0m \u001b[0;32mnot\u001b[0m \u001b[0misinstance\u001b[0m\u001b[0;34m(\u001b[0m\u001b[0mreply\u001b[0m\u001b[0;34m,\u001b[0m \u001b[0mdict\u001b[0m\u001b[0;34m)\u001b[0m\u001b[0;34m:\u001b[0m\u001b[0;34m\u001b[0m\u001b[0;34m\u001b[0m\u001b[0m\n\u001b[0;32m---> 96\u001b[0;31m       \u001b[0mtime\u001b[0m\u001b[0;34m.\u001b[0m\u001b[0msleep\u001b[0m\u001b[0;34m(\u001b[0m\u001b[0;36m0.025\u001b[0m\u001b[0;34m)\u001b[0m\u001b[0;34m\u001b[0m\u001b[0;34m\u001b[0m\u001b[0m\n\u001b[0m\u001b[1;32m     97\u001b[0m       \u001b[0;32mcontinue\u001b[0m\u001b[0;34m\u001b[0m\u001b[0;34m\u001b[0m\u001b[0m\n\u001b[1;32m     98\u001b[0m     if (\n",
            "\u001b[0;31mKeyboardInterrupt\u001b[0m: "
          ]
        }
      ]
    },
    {
      "cell_type": "code",
      "source": [
        "x = LpVariable(\"x\", 0, 3)\n",
        "y = LpVariable(\"y\", 0, 1)\n",
        "prob = LpProblem(\"myProblem\", LpMaximize)\n",
        "prob += -4*x + y\n",
        "prob += x + y <= 2"
      ],
      "metadata": {
        "id": "IhNAKi0BDftx"
      },
      "execution_count": null,
      "outputs": []
    },
    {
      "cell_type": "code",
      "source": [
        "status = prob.solve()\n",
        "print(LpStatus[status])\n",
        "print(value(y))\n",
        "\n",
        "obj = value(prob.objective)\n",
        "print(obj)"
      ],
      "metadata": {
        "id": "dngpJSmVD6pb",
        "colab": {
          "base_uri": "https://localhost:8080/"
        },
        "outputId": "318a795c-0ad7-47a6-f4a0-5726d386c383"
      },
      "execution_count": null,
      "outputs": [
        {
          "output_type": "stream",
          "name": "stdout",
          "text": [
            "Optimal\n",
            "1.0\n",
            "1.0\n"
          ]
        }
      ]
    },
    {
      "cell_type": "code",
      "source": [
        "# TSP Solver\n",
        "\n",
        "# install tsp package\n",
        "!pip install python-tsp\n",
        "\n",
        "import numpy as np\n",
        "import pandas as pd\n",
        "from python_tsp.exact import solve_tsp_dynamic_programming\n",
        "from python_tsp.distances import tsplib_distance_matrix\n",
        "from python_tsp.heuristics import solve_tsp_local_search, solve_tsp_simulated_annealing\n",
        "\n",
        "# define a function to remove some points in dataset\n",
        "def mis(i):\n",
        "    tsplib_file = \"/content/a10.tsp\"\n",
        "    # construct distance matrix\n",
        "    distance_matrix = tsplib_distance_matrix(tsplib_file)\n",
        "\n",
        "    # exclude ith customer\n",
        "    distance_matrix = np.delete(distance_matrix, i, axis=1)\n",
        "    distance_matrix = np.delete(distance_matrix, i, axis=0)\n",
        "    # run the SA with a 2-opt and follow it by a LS with PS3\n",
        "    permutation, distance = solve_tsp_simulated_annealing(distance_matrix)\n",
        "    permutation, distance = solve_tsp_local_search(distance_matrix,\n",
        "                                                   x0 = permutation,\n",
        "                                                   perturbation_scheme = \"ps3\")\n",
        "\n",
        "    return [permutation, distance]\n",
        "\n",
        "print(\"Total distance from depot 1 is\", mis(1)[1])\n",
        "print(\"Total distance from depot 2 is\", mis(0)[1])\n",
        "\n",
        "# compute DC_i of  depot 1 and depot 2 from group P\n",
        "x = [0]*8\n",
        "y = [0]*8\n",
        "for i in range(8):\n",
        "    k = [1, i+2]\n",
        "    s = [0, i+1]\n",
        "    x[i] = mis(k)[1]\n",
        "    y[i] = mis(s)[1]\n",
        "\n",
        "print(x)\n",
        "print(y)"
      ],
      "metadata": {
        "id": "WtKTfGpP44zi",
        "colab": {
          "base_uri": "https://localhost:8080/"
        },
        "outputId": "0b62d287-9cbb-4a09-9018-af9df5021f66"
      },
      "execution_count": null,
      "outputs": [
        {
          "output_type": "stream",
          "name": "stdout",
          "text": [
            "Looking in indexes: https://pypi.org/simple, https://us-python.pkg.dev/colab-wheels/public/simple/\n",
            "Requirement already satisfied: python-tsp in /usr/local/lib/python3.7/dist-packages (0.3.1)\n",
            "Requirement already satisfied: numpy in /usr/local/lib/python3.7/dist-packages (from python-tsp) (1.21.6)\n",
            "Requirement already satisfied: requests<3.0.0,>=2.28.0 in /usr/local/lib/python3.7/dist-packages (from python-tsp) (2.28.1)\n",
            "Requirement already satisfied: tsplib95<0.8.0,>=0.7.1 in /usr/local/lib/python3.7/dist-packages (from python-tsp) (0.7.1)\n",
            "Requirement already satisfied: urllib3<1.27,>=1.21.1 in /usr/local/lib/python3.7/dist-packages (from requests<3.0.0,>=2.28.0->python-tsp) (1.24.3)\n",
            "Requirement already satisfied: certifi>=2017.4.17 in /usr/local/lib/python3.7/dist-packages (from requests<3.0.0,>=2.28.0->python-tsp) (2022.9.24)\n",
            "Requirement already satisfied: idna<4,>=2.5 in /usr/local/lib/python3.7/dist-packages (from requests<3.0.0,>=2.28.0->python-tsp) (2.10)\n",
            "Requirement already satisfied: charset-normalizer<3,>=2 in /usr/local/lib/python3.7/dist-packages (from requests<3.0.0,>=2.28.0->python-tsp) (2.1.1)\n",
            "Requirement already satisfied: Click>=6.0 in /usr/local/lib/python3.7/dist-packages (from tsplib95<0.8.0,>=0.7.1->python-tsp) (7.1.2)\n",
            "Requirement already satisfied: Deprecated~=1.2.9 in /usr/local/lib/python3.7/dist-packages (from tsplib95<0.8.0,>=0.7.1->python-tsp) (1.2.13)\n",
            "Requirement already satisfied: tabulate~=0.8.7 in /usr/local/lib/python3.7/dist-packages (from tsplib95<0.8.0,>=0.7.1->python-tsp) (0.8.10)\n",
            "Requirement already satisfied: networkx~=2.1 in /usr/local/lib/python3.7/dist-packages (from tsplib95<0.8.0,>=0.7.1->python-tsp) (2.6.3)\n",
            "Requirement already satisfied: wrapt<2,>=1.10 in /usr/local/lib/python3.7/dist-packages (from Deprecated~=1.2.9->tsplib95<0.8.0,>=0.7.1->python-tsp) (1.14.1)\n",
            "Total distance from depot 1 is 3166\n",
            "Total distance from depot 2 is 3227\n",
            "[2457, 2983, 3050, 3101, 3076, 3121, 3128, 2851]\n",
            "[3137, 3023, 3044, 3111, 3162, 2873, 3182, 3133]\n"
          ]
        }
      ]
    },
    {
      "cell_type": "code",
      "source": [
        "import csv\n",
        "\n",
        "\n",
        "file = open(\"coordinates10.csv\", \"r\")\n",
        "data = list(csv.reader(file))\n",
        "file.close()\n",
        "for i in range(len(data)):\n",
        "    for j in range(len(data[i])):\n",
        "        data[i][j] = int(data[i][j])\n",
        "\n",
        "for i in range(2, len(data)):\n",
        "    data[i] = [data[i][0], data[i][1], data[i][2], data[i][3:6], data[i][6:]]\n",
        "print(data)\n",
        "#[[x, y, max_inventory, [1,2,3(inventory)], [1,2,3 (demand)]], [customer 2], [customer 3]...]"
      ],
      "metadata": {
        "id": "wYBAHzjLiWpN",
        "colab": {
          "base_uri": "https://localhost:8080/"
        },
        "outputId": "6e929bf0-3972-4d67-8775-b4bdd6cb4836"
      },
      "execution_count": null,
      "outputs": [
        {
          "output_type": "stream",
          "name": "stdout",
          "text": [
            "[[124, 803], [975, 265], [943, 81, 200, [130, 65, 0], [195, 130, 65]], [546, 287, 70, [70, 35, 35], [35, 35, 35]], [353, 20, 100, [58, 58, 0], [58, 58, 58]], [209, 108, 50, [48, 24, 24], [24, 24, 24]], [228, 684, 60, [11, 0, 22], [44, 22, 33]], [234, 426, 300, [140, 210, 0], [280, 280, 140]], [663, 439, 150, [30, 0, 0], [120, 30, 30]], [625, 893, 800, [600, 200, 400], [400, 400, 400]]]\n"
          ]
        }
      ]
    },
    {
      "cell_type": "code",
      "source": [
        "P = data[0:2]\n",
        "I = data[2:]\n",
        "T = [0, 1, 2]\n",
        "\n",
        "R = [0 for i in range(8)]\n",
        "M = [0 for i in range(8)]\n",
        "CL = [0 for i in range(8)]\n",
        "\n",
        "alpha = 0.5\n",
        "\n",
        "for i in range(len(I)):\n",
        "    max_inventory = I[i][2]\n",
        "    initial_inventory = I[i][3][0]\n",
        "    sum = 0\n",
        "    for t in T:\n",
        "        sum += I[i][4][t] - initial_inventory\n",
        "    if sum > 0:\n",
        "        R[i] = sum / max_inventory\n",
        "    else:\n",
        "        R[i] = 0\n",
        "\n",
        "TSP_all = [3166, 3227]\n",
        "TSP = [[2457, 2983, 3050, 3101, 3076, 3121, 3128, 2851], [3137, 3023, 3044, 3111, 3162, 2873, 3182, 3133]]\n",
        "cost = 0\n",
        "for i in range(len(I)):\n",
        "    for p in range(len(P)):\n",
        "        cost += TSP_all[p] - TSP[p][i]\n",
        "    M[i] = cost / len(P)\n",
        "\n",
        "for i in range(len(I)):\n",
        "    CL[i] = alpha * R[i] + (1 - alpha) * M[i]\n",
        "\n",
        "\n",
        "\n",
        "for i in range(8):\n",
        "    print(R[i], end=', ')\n",
        "print('\\n')\n",
        "for i in range(8):\n",
        "    print(M[i], end=', ')\n",
        "print('\\n')\n",
        "for i in range(8):\n",
        "    print(CL[i], end=', ')"
      ],
      "metadata": {
        "id": "YHdvhTd3ikS_",
        "outputId": "cd08fd3e-02fb-42b8-a119-296534be6201",
        "colab": {
          "base_uri": "https://localhost:8080/"
        }
      },
      "execution_count": null,
      "outputs": [
        {
          "output_type": "stream",
          "name": "stdout",
          "text": [
            "0, 0, 0, 0, 1.1, 0.9333333333333333, 0.6, 0, \n",
            "\n",
            "399.5, 593.0, 742.5, 833.0, 910.5, 1110.0, 1151.5, 1356.0, \n",
            "\n",
            "199.75, 296.5, 371.25, 416.5, 455.8, 555.4666666666667, 576.05, 678.0, "
          ]
        }
      ]
    },
    {
      "cell_type": "code",
      "source": [
        "start = 0\n",
        "end = 10\n",
        "width = end - start\n",
        "\n",
        "R_converted = np.array(R)\n",
        "res1 = (R_converted - R_converted.min())/(R_converted.max() - R_converted.min()) * width + start\n",
        "R = res1.tolist()\n",
        "\n",
        "M_converted = np.array(M)\n",
        "res2 = (M_converted - M_converted.min())/(M_converted.max() - M_converted.min()) * width + start\n",
        "M = res2.tolist()\n",
        "\n",
        "CL_converted = np.array(CL)\n",
        "TC = np.mean(CL_converted)"
      ],
      "metadata": {
        "id": "Vs48s6742YpO"
      },
      "execution_count": null,
      "outputs": []
    },
    {
      "cell_type": "code",
      "source": [
        "###Solve the Linear Program\n",
        "\n",
        "n_depots = 2\n",
        "n_customers = 8\n",
        "CC = 8\n",
        "\n",
        "def make_var_b(p, i):\n",
        "    return LpVariable(f\"b_{p}_{i+n_depots}\", lowBound=0, upBound=1, cat='Integer') # Satisfy constraint (26) already\n",
        "\n",
        "c_pi = [[1092, 667, 816, 700, 158, 393, 650, 509], [187, 430, 669, 782, 856, 758, 357, 719]]\n",
        "\n",
        "b_pi = [\n",
        "    [make_var_b(i, j) for j in range(n_customers)]\n",
        "    for i in range(n_depots)\n",
        "]\n",
        "\n",
        "flat_b_pi= [item for sublist in b_pi for item in sublist]\n",
        "flat_c_pi= [item for sublist in c_pi for item in sublist]\n",
        "\n",
        "#Define Linear Program\n",
        "prob = LpProblem(\"Clustering\", LpMinimize)\n",
        "\n",
        "#Objective Function (22)\n",
        "constraint22 = lpDot(flat_b_pi, flat_c_pi)\n",
        "prob += constraint22\n",
        "# print(constraint22)\n",
        "\n",
        "#Constraint (23)\n",
        "for p in range(n_depots):\n",
        "  prob += lpSum(b_pi[p]) <= CC\n",
        "\n",
        "#Constraint (24)\n",
        "for i in range(n_customers):\n",
        "  prob += b_pi[0][i] + b_pi[1][i] == 1\n",
        "\n",
        "#Constraint(25)\n",
        "CL_div_CC = []\n",
        "for num in CL:\n",
        "  CL_div_CC.append(num/CC)\n",
        "for p in range(n_depots):\n",
        "  prob += lpDot(b_pi[p], CL_div_CC) <= TC\n",
        "\n",
        "prob.solve()\n",
        "print(\"Status:\", LpStatus[prob.status])\n",
        "for v in prob.variables():\n",
        "        print(v.name, \"=\", v.varValue)"
      ],
      "metadata": {
        "id": "qXjcMjPZW8Qc",
        "outputId": "e31a8cf4-c0ad-4a88-b2c2-f91f5485e41b",
        "colab": {
          "base_uri": "https://localhost:8080/"
        }
      },
      "execution_count": null,
      "outputs": [
        {
          "output_type": "stream",
          "name": "stdout",
          "text": [
            "Status: Optimal\n",
            "b_0_2 = 0.0\n",
            "b_0_3 = 0.0\n",
            "b_0_4 = 0.0\n",
            "b_0_5 = 1.0\n",
            "b_0_6 = 1.0\n",
            "b_0_7 = 1.0\n",
            "b_0_8 = 0.0\n",
            "b_0_9 = 1.0\n",
            "b_1_2 = 1.0\n",
            "b_1_3 = 1.0\n",
            "b_1_4 = 1.0\n",
            "b_1_5 = 0.0\n",
            "b_1_6 = 0.0\n",
            "b_1_7 = 0.0\n",
            "b_1_8 = 1.0\n",
            "b_1_9 = 0.0\n"
          ]
        }
      ]
    },
    {
      "cell_type": "code",
      "source": [
        "number_of_cluster = n_depots\n",
        "cluster_1 = []\n",
        "cluster_2 = []\n",
        "cluster_list = [cluster_1, cluster_2]\n",
        "\n",
        "for v in prob.variables():\n",
        "  l = f'{v}'.split('_')\n",
        "  p = int(l[1])\n",
        "  i = int(l[2])\n",
        "  if v.varValue == 1:\n",
        "    cluster_list[p].append(i)\n",
        "\n",
        "cluster = []\n",
        "for c in cluster_list:\n",
        "  cluster.append(np.array(c))\n",
        "\n",
        "cluster_1 = cluster[0] + 2\n",
        "cluster_2 = cluster[1] + 2\n",
        "\n",
        "T = np.array([0, 1, 2])\n",
        "\n",
        "cluster_1 = cluster_list[0]\n",
        "cluster_2 = cluster_list[1]"
      ],
      "metadata": {
        "id": "K8T0ncYSQg4O"
      },
      "execution_count": null,
      "outputs": []
    },
    {
      "cell_type": "code",
      "source": [
        "!pip install dijkstar\n",
        "from dijkstar import Graph, find_path"
      ],
      "metadata": {
        "colab": {
          "base_uri": "https://localhost:8080/"
        },
        "id": "mw1gyNxPmulO",
        "outputId": "70ca6a5d-1e81-4d3d-9d24-5e8e53da082d"
      },
      "execution_count": null,
      "outputs": [
        {
          "output_type": "stream",
          "name": "stdout",
          "text": [
            "Traceback (most recent call last):\n",
            "  File \"/usr/local/bin/pip3\", line 5, in <module>\n",
            "    from pip._internal.cli.main import main\n",
            "  File \"/usr/local/lib/python3.7/dist-packages/pip/_internal/cli/main.py\", line 9, in <module>\n",
            "    from pip._internal.cli.autocompletion import autocomplete\n",
            "  File \"/usr/local/lib/python3.7/dist-packages/pip/_internal/cli/autocompletion.py\", line 10, in <module>\n",
            "    from pip._internal.cli.main_parser import create_main_parser\n",
            "  File \"/usr/local/lib/python3.7/dist-packages/pip/_internal/cli/main_parser.py\", line 8, in <module>\n",
            "    from pip._internal.cli import cmdoptions\n",
            "  File \"/usr/local/lib/python3.7/dist-packages/pip/_internal/cli/cmdoptions.py\", line 23, in <module>\n",
            "    from pip._internal.cli.parser import ConfigOptionParser\n",
            "  File \"/usr/local/lib/python3.7/dist-packages/pip/_internal/cli/parser.py\", line 12, in <module>\n",
            "    from pip._internal.configuration import Configuration, ConfigurationError\n",
            "  File \"/usr/local/lib/python3.7/dist-packages/pip/_internal/configuration.py\", line 27, in <module>\n",
            "  File \"/usr/local/lib/python3.7/dist-packages/pip/_internal/utils/misc.py\", line 38, in <module>\n",
            "    from pip._vendor.tenacity import retry, stop_after_delay, wait_fixed\n",
            "  File \"<frozen importlib._bootstrap>\", line 983, in _find_and_load\n",
            "  File \"<frozen importlib._bootstrap>\", line 967, in _find_and_load_unlocked\n",
            "  File \"<frozen importlib._bootstrap>\", line 677, in _load_unlocked\n",
            "  File \"<frozen importlib._bootstrap_external>\", line 724, in exec_module\n",
            "  File \"<frozen importlib._bootstrap_external>\", line 857, in get_code\n",
            "  File \"<frozen importlib._bootstrap_external>\", line 525, in _compile_bytecode\n",
            "KeyboardInterrupt\n"
          ]
        }
      ]
    },
    {
      "cell_type": "code",
      "source": [
        "##First for loop of part 2\n",
        "\n",
        "d_list = np.array([\n",
        "    [0, 1007, 1092, 667, 816, 700, 158, 393, 650, 509],\n",
        "    [1007, 0, 187, 430, 669, 782, 856, 758, 357, 719],\n",
        "    [1092, 187, 0, 447, 593, 734, 935, 788, 454, 872],\n",
        "    [667, 430, 447, 0, 329, 382, 509, 342, 192, 611],\n",
        "    [816, 669, 593, 329, 0, 169, 676, 423, 521, 914],\n",
        "    [700, 782, 734, 382, 169, 0, 576, 319, 562, 888],\n",
        "    [158, 856, 935, 509, 676, 576, 0, 258, 499, 449],\n",
        "    [393, 758, 788, 342, 423, 319, 258, 0, 429, 609],\n",
        "    [650, 357, 454, 192, 521, 562, 499, 429, 0, 456],\n",
        "    [509, 719, 872, 611, 914, 888, 449, 609, 456, 0]\n",
        "    ])\n",
        "print(d_list.shape)\n",
        "\n",
        "graph = Graph()\n",
        "\n",
        "for i, d in enumerate(d_list):\n",
        "  for j, cost in enumerate(d):\n",
        "    if i != j:\n",
        "      graph.add_edge(i, j, d_list[i, j])\n",
        "\n",
        "R_l= []\n",
        "for p, C in enumerate(cluster):\n",
        "  for customer in C:\n",
        "    path_info = find_path(graph, p, customer)\n",
        "    print(path_info)\n",
        "    path = getattr(path_info, 'nodes')\n",
        "    R_l.append(path)\n",
        "\n",
        "print(R_l)\n",
        "\n",
        "R = set(tuple(i) for i in R_l)\n",
        "print(R)"
      ],
      "metadata": {
        "colab": {
          "base_uri": "https://localhost:8080/"
        },
        "id": "sfX2i78omqsg",
        "outputId": "81da61ad-da84-4e32-b565-5c99f0554442"
      },
      "execution_count": null,
      "outputs": [
        {
          "output_type": "stream",
          "name": "stdout",
          "text": [
            "(10, 10)\n",
            "PathInfo(nodes=[0, 5], edges=[700], costs=[700], total_cost=700)\n",
            "PathInfo(nodes=[0, 6], edges=[158], costs=[158], total_cost=158)\n",
            "PathInfo(nodes=[0, 7], edges=[393], costs=[393], total_cost=393)\n",
            "PathInfo(nodes=[0, 9], edges=[509], costs=[509], total_cost=509)\n",
            "PathInfo(nodes=[1, 2], edges=[187], costs=[187], total_cost=187)\n",
            "PathInfo(nodes=[1, 3], edges=[430], costs=[430], total_cost=430)\n",
            "PathInfo(nodes=[1, 4], edges=[669], costs=[669], total_cost=669)\n",
            "PathInfo(nodes=[1, 8], edges=[357], costs=[357], total_cost=357)\n",
            "[[0, 5], [0, 6], [0, 7], [0, 9], [1, 2], [1, 3], [1, 4], [1, 8]]\n",
            "{(1, 2), (1, 3), (0, 7), (1, 4), (0, 6), (1, 8), (0, 5), (0, 9)}\n"
          ]
        }
      ]
    },
    {
      "cell_type": "code",
      "source": [
        "# g1 policy\n",
        "g1_clus1 = np.empty((len(cluster_1), len(T)))\n",
        "for i in range(len(cluster_1)):\n",
        "    for j in range(len(T)):\n",
        "        yih_g1 = 0\n",
        "        d_ih = 0\n",
        "        Iit_g1 = data[cluster_1[i]][3][0] + yih_g1 - d_ih\n",
        "        if data[cluster_1[i]][4][j] >= Iit_g1:\n",
        "            yit_g1 = data[cluster_1[i]][2] - Iit_g1\n",
        "        else:\n",
        "            yit_g1 = 0\n",
        "        g1_clus1[i, j] = yit_g1\n",
        "g1_clus1 = g1_clus1.astype(int)\n",
        "print(g1_clus1) #[[yi0(g1), yi1(g1), yi2(g1)],[cust 2], [cust 3], ...]\n",
        "\n",
        "g1_clus2 = np.empty((len(cluster_2), len(T)))\n",
        "for i in range(len(cluster_2)):\n",
        "    for j in range(len(T)):\n",
        "        yih_g1 = 0\n",
        "        d_ih = 0\n",
        "        Iit_g1 = data[cluster_1[i]][3][0] + yih_g1 - d_ih\n",
        "        if data[cluster_2[i]][4][j] >= Iit_g1:\n",
        "            yit_g1 = data[cluster_2[i]][2] - Iit_g1\n",
        "        else:\n",
        "            yit_g1 = 0\n",
        "        g1_clus2[i, j] = yit_g1\n",
        "g1_clus2 = g1_clus2.astype(int)\n",
        "print(g1_clus2)"
      ],
      "metadata": {
        "id": "rjjJ92_MQm8g",
        "outputId": "70dec799-b694-47e0-bbfb-42f65777e997",
        "colab": {
          "base_uri": "https://localhost:8080/"
        }
      },
      "execution_count": null,
      "outputs": [
        {
          "output_type": "stream",
          "name": "stdout",
          "text": [
            "[[  0   0   0]\n",
            " [ 49  49  49]\n",
            " [160 160 160]\n",
            " [  0   0   0]]\n",
            "[[152 152 152]\n",
            " [ 59  59  59]\n",
            " [  0   0   0]\n",
            " [  0   0   0]]\n"
          ]
        }
      ]
    },
    {
      "cell_type": "code",
      "source": [
        "# g2 policy\n",
        "g2_clus1 = np.empty((len(cluster_1), len(T)))\n",
        "for i in range(len(cluster_1)):\n",
        "    for j in range(len(T)):\n",
        "        yih_g2 = 0\n",
        "        d_ih = 0\n",
        "        Iit_g2 = data[cluster_1[i]][3][0] + yih_g2 - d_ih\n",
        "        if data[cluster_1[i]][4][j] >= Iit_g2:\n",
        "            yit_g2 = data[cluster_1[i]][4][j] - Iit_g2\n",
        "        else:\n",
        "            yit_g2 = 0\n",
        "        g2_clus1[i, j] = yit_g2\n",
        "g2_clus1 = g2_clus1.astype(int)\n",
        "print(g2_clus1) #[[yi0(g2), yi1(g2), yi2(g2)],[cust 2], [cust 3], ...]\n",
        "\n",
        "g2_clus2 = np.empty((len(cluster_2), len(T)))\n",
        "for i in range(len(cluster_2)):\n",
        "    for j in range(len(T)):\n",
        "        yih_g2 = 0\n",
        "        d_ih = 0\n",
        "        Iit_g2 = data[cluster_1[i]][3][0] + yih_g2 - d_ih\n",
        "        if data[cluster_2[i]][4][j] >= Iit_g2:\n",
        "            yit_g2 = data[cluster_2[i]][4][j] - Iit_g2\n",
        "        else:\n",
        "            yit_g2 = 0\n",
        "        g2_clus2[i, j] = yit_g2\n",
        "g2_clus2 = g2_clus2.astype(int)\n",
        "print(g2_clus2)"
      ],
      "metadata": {
        "id": "F6OEsXJ_Rb3s",
        "outputId": "6aeb33d1-03e1-46cf-e062-c80c7d1c94a7",
        "colab": {
          "base_uri": "https://localhost:8080/"
        }
      },
      "execution_count": null,
      "outputs": [
        {
          "output_type": "stream",
          "name": "stdout",
          "text": [
            "[[  0   0   0]\n",
            " [ 33  11  22]\n",
            " [140 140   0]\n",
            " [  0   0   0]]\n",
            "[[147  82  17]\n",
            " [ 24  24  24]\n",
            " [  0   0   0]\n",
            " [  0   0   0]]\n"
          ]
        }
      ]
    },
    {
      "cell_type": "code",
      "source": [
        "# g3 policy\n",
        "g3_clus1 = np.empty((len(cluster_1), len(T)))\n",
        "for i in range(len(cluster_1)):\n",
        "    for j in range(len(T)):\n",
        "        yih_g3 = 0\n",
        "        d_ih = 0\n",
        "        Iit_g3 = data[cluster_1[i]][3][0] + yih_g3 - d_ih\n",
        "        if data[cluster_1[i]][4][j] >= Iit_g3:\n",
        "            yit_g3 = max(data[cluster_1[i]][4][j] - Iit_g3, data[cluster_1[i]][3][0] - Iit_g3)\n",
        "        else:\n",
        "            yit_g3 = 0\n",
        "        g3_clus1[i, j] = yit_g3\n",
        "g3_clus1 = g3_clus1.astype(int)\n",
        "print(g3_clus1) #[[yi0(g3), yi1(g3), yi2(g3)],[cust 2], [cust 3], ...]\n",
        "\n",
        "g3_clus2 = np.empty((len(cluster_2), len(T)))\n",
        "for i in range(len(cluster_2)):\n",
        "    for j in range(len(T)):\n",
        "        yih_g3 = 0\n",
        "        d_ih = 0\n",
        "        Iit_g3 = data[cluster_2[i]][3][0] + yih_g3 - d_ih\n",
        "        if data[cluster_2[i]][4][j] >= Iit_g3:\n",
        "            yit_g3 = max(data[cluster_2[i]][4][j] - Iit_g3, data[cluster_2[i]][3][0] - Iit_g3)\n",
        "        else:\n",
        "            yit_g3 = 0\n",
        "        g3_clus2[i, j] = yit_g3\n",
        "g3_clus2 = g3_clus2.astype(int)\n",
        "print(g3_clus2)"
      ],
      "metadata": {
        "id": "9HI8y4k8RgqW",
        "outputId": "d410db7c-18a3-4c95-9265-c55185ab5bbf",
        "colab": {
          "base_uri": "https://localhost:8080/"
        }
      },
      "execution_count": null,
      "outputs": [
        {
          "output_type": "stream",
          "name": "stdout",
          "text": [
            "[[  0   0   0]\n",
            " [ 33  11  22]\n",
            " [140 140   0]\n",
            " [  0   0   0]]\n",
            "[[65  0  0]\n",
            " [ 0  0  0]\n",
            " [ 0  0  0]\n",
            " [90  0  0]]\n"
          ]
        }
      ]
    },
    {
      "cell_type": "code",
      "source": [
        "# g4 policy\n",
        "cl_avg = np.sum(CL) / len(CL)\n",
        "g4_clus1 = np.empty((len(cluster_1), len(T)))\n",
        "for i in range(len(cluster_1)):\n",
        "    for j in range(len(T)):\n",
        "        yih_g4 = 0\n",
        "        d_ih = 0\n",
        "        Iit_g4 = data[cluster_1[i]][3][0] + yih_g4 - d_ih\n",
        "        if (data[cluster_1[i]][4][j] >= Iit_g4 and CL[(np.array(cluster_1) - 2)[i]] >= cl_avg):\n",
        "            yit_g4 = min(2*data[cluster_1[i]][4][j], data[cluster_1[i]][2])\n",
        "        elif (data[cluster_1[i]][4][j] >= Iit_g4 and CL[(np.array(cluster_1) - 2)[i]] < cl_avg):\n",
        "            yit_g4 = data[cluster_1[i]][4][j]\n",
        "        else:\n",
        "            yit_g4 = 0\n",
        "        g4_clus1[i, j] = yit_g4\n",
        "g4_clus1 = g4_clus1.astype(int)\n",
        "print(g4_clus1) #[[yi0(g4), yi1(g4), yi2(g4)],[cust 2], [cust 3], ...]\n",
        "\n",
        "g4_clus2 = np.empty((len(cluster_2), len(T)))\n",
        "for i in range(len(cluster_2)):\n",
        "    for j in range(len(T)):\n",
        "        yih_g4 = 0\n",
        "        d_ih = 0\n",
        "        Iit_g4 = data[cluster_1[i]][3][0] + yih_g4 - d_ih\n",
        "        if (data[cluster_2[i]][4][j] >= Iit_g4 and CL[(np.array(cluster_2) - 2)[i]] >= cl_avg):\n",
        "            yit_g4 = min(2*data[cluster_2[i]][4][j], data[cluster_2[i]][2])\n",
        "        elif (data[cluster_2[i]][4][j] >= Iit_g4 and CL[(np.array(cluster_2) - 2)[i]] < cl_avg):\n",
        "            yit_g4 = data[cluster_2[i]][4][j]\n",
        "        else:\n",
        "            yit_g4 = 0\n",
        "        g4_clus2[i, j] = yit_g4\n",
        "g4_clus2 = g4_clus2.astype(int)\n",
        "print(g4_clus2)"
      ],
      "metadata": {
        "id": "DgJ3deqkRjs6",
        "outputId": "05cf1f58-0bbd-4690-e06e-8393363109d8",
        "colab": {
          "base_uri": "https://localhost:8080/"
        }
      },
      "execution_count": null,
      "outputs": [
        {
          "output_type": "stream",
          "name": "stdout",
          "text": [
            "[[  0   0   0]\n",
            " [ 60  44  60]\n",
            " [300 300 280]\n",
            " [  0   0   0]]\n",
            "[[195 130  65]\n",
            " [ 35  35  35]\n",
            " [  0   0   0]\n",
            " [  0   0   0]]\n"
          ]
        }
      ]
    }
  ]
}